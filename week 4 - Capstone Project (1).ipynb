{
 "cells": [
  {
   "cell_type": "markdown",
   "id": "67bdb40a",
   "metadata": {},
   "source": [
    "# Capstone Project- The Battle of Neigbourhoods"
   ]
  },
  {
   "cell_type": "markdown",
   "id": "dc535634",
   "metadata": {},
   "source": [
    "# Table of contents\n",
    "\n",
    "* Introduction\n",
    "* Data\n",
    "* Methodolgy\n",
    "* Analysis\n",
    "* Results and Discussion\n",
    "* Conclusion\n"
   ]
  },
  {
   "cell_type": "markdown",
   "id": "7f373e38",
   "metadata": {},
   "source": [
    "## Introduction\n",
    "\n",
    "Being a Indian and Love for the Indian food allover the world is amazing but availability of Indian food and taste is not easy to find.\n",
    "\n",
    "Switzerland is one of the famous tourist place and one of the favourite place for the Indians/Asian but the Availability of Indian/Asian food is not that much even if the location is in Downtown.\n",
    "\n",
    "This Project will help us to find the location in switzerland (Zurich) and its nearby areas where Asian food can be available as Indian Food specifically will narrow our search.\n",
    "\n",
    "Prior launching any restaurant, it’s important to know if the business as a good opportunity. In order to do so, this report will try to gather data about other restaurant localization, competitors and best localization.\n",
    "\n",
    "These data could be use for a business plan afterward\n",
    "\n",
    "## Problem\n",
    "\n",
    "As the goal of this is to create a business plan in the end, we need to make sure data from api are correct. We also need to check that customer could be interested in this specific business.\n",
    "\n",
    "In order to do so, a survey in Zurich will be done in addition to data gathering. I’ll go in the cities and check at different hours if restaurants are working, if streets are full and so on, and what kind of restaurant works well. This survey will allow to validate the data analysis done here.\n",
    "\n",
    "## Interest \n",
    "This study can be used by anyone interested by opening a restaurant. Or any other business."
   ]
  },
  {
   "cell_type": "markdown",
   "id": "7d77e06a",
   "metadata": {},
   "source": [
    "## Data\n",
    "\n",
    "The idea of doing the project and data collection is taken from one of the tempalte shared in coursera project. I will keep the idea of clustering the city by area and then plot heatmap to find better area.\n",
    "\n",
    "I will change some data:\n",
    "\n",
    "Country/City: Switzerland\n",
    "Goal: Open a restaurant/little shop for workers in weekday and maybe saturday\n",
    "So, I will cross data from working days, and localisations.\n",
    "\n",
    "I will use the following API:\n",
    "\n",
    "Foursquare API: to find restaurant/venues\n",
    "Google API: reverse geolocalisation\n",
    "\n",
    "## Neighborhood Candidates\n",
    "\n",
    "Firstly, we will  create latitude & longitude coordinates for centroids of our candidate neighborhoods. We will be create a grid of cells covering our area of interest which is aprox. 1.5km killometers centered around Zurich city center.\n",
    "\n",
    "Let's first find the latitude & longitude of Zurich city center, using specific, well known address and Google Maps geocoding API.\n",
    "\n",
    "We'll consider the Prefecture to be the city center, as a lot of companies are around"
   ]
  },
  {
   "cell_type": "code",
   "execution_count": null,
   "id": "ade23b42",
   "metadata": {},
   "outputs": [],
   "source": []
  }
 ],
 "metadata": {
  "kernelspec": {
   "display_name": "Python",
   "language": "python",
   "name": "conda-env-python-py"
  },
  "language_info": {
   "codemirror_mode": {
    "name": "ipython",
    "version": 3
   },
   "file_extension": ".py",
   "mimetype": "text/x-python",
   "name": "python",
   "nbconvert_exporter": "python",
   "pygments_lexer": "ipython3",
   "version": "3.6.13"
  }
 },
 "nbformat": 4,
 "nbformat_minor": 5
}
